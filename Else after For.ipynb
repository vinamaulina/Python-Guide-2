{
 "cells": [
  {
   "cell_type": "markdown",
   "id": "8a720e42",
   "metadata": {},
   "source": [
    "#### Else after For\n",
    "\n",
    "The else function after for is the priority function in search loops - to provide a program exit when the search is not found."
   ]
  },
  {
   "cell_type": "code",
   "execution_count": 1,
   "id": "a2b3a91d",
   "metadata": {},
   "outputs": [
    {
     "name": "stdout",
     "output_type": "stream",
     "text": [
      "1 adalah bukan genap\n",
      "2 adalah genap\n",
      "3 adalah bukan genap\n",
      "4 adalah genap\n",
      "5 adalah bukan genap\n",
      "6 adalah genap\n"
     ]
    }
   ],
   "source": [
    "for i in range(1,7):\n",
    "    if i % 2 == 0:\n",
    "        print(\"{} adalah genap\".format(i))\n",
    "    else:\n",
    "        print(\"{} adalah bukan genap\".format(i))"
   ]
  },
  {
   "cell_type": "code",
   "execution_count": 2,
   "id": "12c48e42",
   "metadata": {},
   "outputs": [
    {
     "name": "stdout",
     "output_type": "stream",
     "text": [
      "1 adalah angka ganjil\n",
      "1 lebih kecil dari 3\n",
      "2 adalah angka genap\n",
      "2 lebih kecil dari 3\n",
      "3 adalah angka ganjil\n",
      "3 sama dengan 3\n",
      "Selesai\n"
     ]
    }
   ],
   "source": [
    "angka = [1, 2, 3]\n",
    "\n",
    "for item in angka:\n",
    "    if item % 2 == 0:\n",
    "        print(f\"{item} adalah angka genap\")\n",
    "    else:\n",
    "        print(f\"{item} adalah angka ganjil\")\n",
    "\n",
    "    if item > 3:\n",
    "        print(f\"{item} lebih besar dari 3\")\n",
    "    elif item == 3:\n",
    "        print(f\"{item} sama dengan 3\")\n",
    "    else:\n",
    "        print(f\"{item} lebih kecil dari 3\")\n",
    "\n",
    "print(\"Selesai\")"
   ]
  }
 ],
 "metadata": {
  "kernelspec": {
   "display_name": "Python 3 (ipykernel)",
   "language": "python",
   "name": "python3"
  },
  "language_info": {
   "codemirror_mode": {
    "name": "ipython",
    "version": 3
   },
   "file_extension": ".py",
   "mimetype": "text/x-python",
   "name": "python",
   "nbconvert_exporter": "python",
   "pygments_lexer": "ipython3",
   "version": "3.11.4"
  }
 },
 "nbformat": 4,
 "nbformat_minor": 5
}
