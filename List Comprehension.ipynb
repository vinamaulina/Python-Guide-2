{
 "cells": [
  {
   "cell_type": "markdown",
   "id": "69d81e04",
   "metadata": {},
   "source": [
    "#### List Comprehension\n",
    "- List comprehension in Python is an easy and compact syntax for creating a list from a string or another list. \n",
    "- It is a very concise way to create a new list by performing an operation on each item in the existing list. \n",
    "- List comprehension is considerably faster than processing a list using the for loop."
   ]
  },
  {
   "cell_type": "code",
   "execution_count": 1,
   "id": "d7a8f5c0",
   "metadata": {},
   "outputs": [],
   "source": [
    "angka = [2,3,4]"
   ]
  },
  {
   "cell_type": "code",
   "execution_count": 2,
   "id": "099da3ff",
   "metadata": {},
   "outputs": [],
   "source": [
    "kubik = []"
   ]
  },
  {
   "cell_type": "code",
   "execution_count": 3,
   "id": "9eaf753a",
   "metadata": {},
   "outputs": [
    {
     "name": "stdout",
     "output_type": "stream",
     "text": [
      "[8, 27, 64]\n"
     ]
    }
   ],
   "source": [
    "for i in angka:\n",
    "    kubik.append(i**3)\n",
    "print(kubik)"
   ]
  },
  {
   "cell_type": "markdown",
   "id": "74931b06",
   "metadata": {},
   "source": [
    "#### Task 1\n",
    "- Make List Comprehension"
   ]
  },
  {
   "cell_type": "code",
   "execution_count": 4,
   "id": "ead61925",
   "metadata": {},
   "outputs": [],
   "source": [
    "angka = [7,8,9,10,11]"
   ]
  },
  {
   "cell_type": "code",
   "execution_count": 5,
   "id": "36899a28",
   "metadata": {},
   "outputs": [],
   "source": [
    "kuadrat = []"
   ]
  },
  {
   "cell_type": "code",
   "execution_count": 6,
   "id": "bcade79e",
   "metadata": {},
   "outputs": [
    {
     "name": "stdout",
     "output_type": "stream",
     "text": [
      "[49, 64, 81, 100, 121]\n"
     ]
    }
   ],
   "source": [
    "for i in angka:\n",
    "    kuadrat.append(i**2)\n",
    "print(kuadrat)"
   ]
  },
  {
   "cell_type": "markdown",
   "id": "d366f58c",
   "metadata": {},
   "source": [
    "#### Looping in another way\n",
    "new_list = [expression for_loop_one_or_more_conditions]"
   ]
  },
  {
   "cell_type": "code",
   "execution_count": 7,
   "id": "b138a8ae",
   "metadata": {},
   "outputs": [],
   "source": [
    "angka = [4,5,6,7,8]"
   ]
  },
  {
   "cell_type": "code",
   "execution_count": 8,
   "id": "527f8652",
   "metadata": {},
   "outputs": [],
   "source": [
    "kuartik = []"
   ]
  },
  {
   "cell_type": "code",
   "execution_count": 9,
   "id": "675cc09f",
   "metadata": {},
   "outputs": [
    {
     "name": "stdout",
     "output_type": "stream",
     "text": [
      "[256, 625, 1296, 2401, 4096]\n"
     ]
    }
   ],
   "source": [
    "for i in angka:\n",
    "    kuartik.append(i**4)\n",
    "print(kuartik)"
   ]
  },
  {
   "cell_type": "code",
   "execution_count": 10,
   "id": "b24a2b01",
   "metadata": {},
   "outputs": [
    {
     "name": "stdout",
     "output_type": "stream",
     "text": [
      "['c']\n"
     ]
    }
   ],
   "source": [
    "abc = ['a', 'b', 'c']\n",
    "cde = ['c', 'd', 'e']\n",
    "\n",
    "duplikat = []\n",
    "\n",
    "for i in abc:\n",
    "    for j in cde:\n",
    "        if i==j:\n",
    "            duplikat.append(i)\n",
    "\n",
    "print(duplikat)"
   ]
  },
  {
   "cell_type": "markdown",
   "id": "df8188e5",
   "metadata": {},
   "source": [
    "#### Task 2\n",
    " - Make list comprehension\n",
    " - for multilevel\n",
    " - Conditional expression: if elif"
   ]
  },
  {
   "cell_type": "code",
   "execution_count": 11,
   "id": "d2ee15e8",
   "metadata": {},
   "outputs": [
    {
     "name": "stdout",
     "output_type": "stream",
     "text": [
      "['merah']\n"
     ]
    }
   ],
   "source": [
    "pelangi = [\"merah\", \"kuning\", \"hijau\"]\n",
    "bendera = [\"merah\", \"putih\"]\n",
    "\n",
    "duplikat = []\n",
    "\n",
    "for i in pelangi:\n",
    "    for j in bendera:\n",
    "        if i==j:\n",
    "            duplikat.append(i)\n",
    "        \n",
    "print(duplikat)"
   ]
  },
  {
   "cell_type": "code",
   "execution_count": 12,
   "id": "180be524",
   "metadata": {},
   "outputs": [
    {
     "name": "stdout",
     "output_type": "stream",
     "text": [
      "[6, 7, 8, 9, 10, 7, 8, 9, 10, 11, 8, 9, 10, 11, 12, 9, 10, 11, 12, 13, True, 11, 12, 13, 14]\n"
     ]
    }
   ],
   "source": [
    "angka1 = [1, 2, 3, 4, 5]\n",
    "angka2 = [5, 6, 7, 8, 9]\n",
    "\n",
    "hasil = []\n",
    "\n",
    "for i in angka1:\n",
    "    for j in angka2:\n",
    "        if i==j:\n",
    "            hasil.append(i==j)\n",
    "        elif i+j:\n",
    "            hasil.append(i+j)\n",
    "            \n",
    "print(hasil)"
   ]
  },
  {
   "cell_type": "markdown",
   "id": "5c1c24e1",
   "metadata": {},
   "source": [
    "#### Upper"
   ]
  },
  {
   "cell_type": "code",
   "execution_count": 13,
   "id": "91290a57",
   "metadata": {},
   "outputs": [
    {
     "name": "stdout",
     "output_type": "stream",
     "text": [
      "['DATA', 'SCIENCE']\n"
     ]
    }
   ],
   "source": [
    "data = [\"data\", \"science\"]\n",
    "\n",
    "upper = [_.upper() for _ in data]\n",
    "\n",
    "print(upper)"
   ]
  },
  {
   "cell_type": "code",
   "execution_count": 14,
   "id": "1ea48190",
   "metadata": {},
   "outputs": [
    {
     "name": "stdout",
     "output_type": "stream",
     "text": [
      "[{1}, {9, 27}, {25, 125}, {49, 343}]\n"
     ]
    }
   ],
   "source": [
    "angka = range(1, 8, 2)\n",
    "kuadrat_kubik = [{_**2, _**3} for _ in angka]\n",
    "print(kuadrat_kubik)"
   ]
  },
  {
   "cell_type": "code",
   "execution_count": 15,
   "id": "7ee0577b",
   "metadata": {},
   "outputs": [
    {
     "name": "stdout",
     "output_type": "stream",
     "text": [
      "['SELAMAT', 'PAGI']\n"
     ]
    }
   ],
   "source": [
    "x = [\"selamat\", \"pagi\"]\n",
    "\n",
    "upper = [_.upper() for _ in x]\n",
    "\n",
    "print(upper)"
   ]
  },
  {
   "cell_type": "code",
   "execution_count": 16,
   "id": "2d2cadca",
   "metadata": {},
   "outputs": [
    {
     "name": "stdout",
     "output_type": "stream",
     "text": [
      "[[16, 32]]\n"
     ]
    }
   ],
   "source": [
    "angka = range(2, 4, 6)\n",
    "kuartik_kuintik = [[_**4, _**5] for _ in angka]\n",
    "print(kuartik_kuintik)"
   ]
  }
 ],
 "metadata": {
  "kernelspec": {
   "display_name": "Python 3 (ipykernel)",
   "language": "python",
   "name": "python3"
  },
  "language_info": {
   "codemirror_mode": {
    "name": "ipython",
    "version": 3
   },
   "file_extension": ".py",
   "mimetype": "text/x-python",
   "name": "python",
   "nbconvert_exporter": "python",
   "pygments_lexer": "ipython3",
   "version": "3.11.4"
  }
 },
 "nbformat": 4,
 "nbformat_minor": 5
}
