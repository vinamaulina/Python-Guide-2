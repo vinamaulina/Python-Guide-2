{
 "cells": [
  {
   "cell_type": "markdown",
   "id": "0b6aae2d",
   "metadata": {},
   "source": [
    "Continue\n",
    " - Pernyataan continue akan membuat iterasi saat ini berhenti\n",
    " - Kemudian melanjutkan ke iterasi berikutnya\n",
    " - Mengabaikan pernyataan (statement) yang berada antara continue hingga akhir blok perulangan"
   ]
  },
  {
   "cell_type": "code",
   "execution_count": 1,
   "id": "0396ad96",
   "metadata": {},
   "outputs": [
    {
     "name": "stdout",
     "output_type": "stream",
     "text": [
      "D\n",
      "t\n",
      " \n",
      "n\n",
      "l\n",
      "y\n",
      "s\n",
      "i\n",
      "s\n"
     ]
    }
   ],
   "source": [
    "for i in \"Data analysis\":\n",
    "    if i == \"a\":\n",
    "        continue\n",
    "    print(i)"
   ]
  },
  {
   "cell_type": "code",
   "execution_count": 14,
   "id": "58adda9b",
   "metadata": {},
   "outputs": [
    {
     "name": "stdout",
     "output_type": "stream",
     "text": [
      "1 bukan bilangan habis dibagi 4\n",
      "2 bukan bilangan habis dibagi 4\n",
      "3 bukan bilangan habis dibagi 4\n",
      "4 adalah bilangan habis dibagi 4\n"
     ]
    }
   ],
   "source": [
    "for i in range(1,5):\n",
    "    if i % 4 == 0:\n",
    "        print(\"{} adalah bilangan habis dibagi 4\". format(i))\n",
    "        break\n",
    "    else:\n",
    "        print(\"{} bukan bilangan habis dibagi 4\".format(i))\n",
    "        continue\n",
    "    print(i)"
   ]
  }
 ],
 "metadata": {
  "kernelspec": {
   "display_name": "Python 3 (ipykernel)",
   "language": "python",
   "name": "python3"
  },
  "language_info": {
   "codemirror_mode": {
    "name": "ipython",
    "version": 3
   },
   "file_extension": ".py",
   "mimetype": "text/x-python",
   "name": "python",
   "nbconvert_exporter": "python",
   "pygments_lexer": "ipython3",
   "version": "3.11.4"
  }
 },
 "nbformat": 4,
 "nbformat_minor": 5
}
