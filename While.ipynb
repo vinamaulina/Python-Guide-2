{
 "cells": [
  {
   "cell_type": "markdown",
   "id": "c6948627",
   "metadata": {},
   "source": [
    "While\n",
    "\n",
    "- In Python, \"while\" is used to execute statements as long as the given condition is met or True.\n",
    "- The condition can be any expression, and please note that in Python, True includes non-zero values.\n",
    "- When the condition becomes False, the program will proceed to the line after the statement block.\n",
    "- Remember to increment the limit, or else the loop will continue forever."
   ]
  },
  {
   "cell_type": "code",
   "execution_count": 1,
   "id": "68d9bec9",
   "metadata": {},
   "outputs": [
    {
     "name": "stdout",
     "output_type": "stream",
     "text": [
      "1\n",
      "bilangan 1\n",
      "bilangan 2\n"
     ]
    }
   ],
   "source": [
    "angka = int(input())\n",
    "\n",
    "while (angka < 3):\n",
    "    print(\"bilangan {}\".format(angka))\n",
    "    angka = angka + 1"
   ]
  },
  {
   "cell_type": "code",
   "execution_count": 2,
   "id": "d3b8d0cc",
   "metadata": {},
   "outputs": [
    {
     "name": "stdout",
     "output_type": "stream",
     "text": [
      "1\n",
      "bilangan 1\n",
      "bilangan 3\n",
      "bilangan 5\n",
      "bilangan 7\n",
      "bilangan 9\n"
     ]
    }
   ],
   "source": [
    "angka = int(input())\n",
    "\n",
    "while (angka < 10):\n",
    "    print(\"bilangan {}\".format(angka))\n",
    "    angka = angka + 2"
   ]
  },
  {
   "cell_type": "code",
   "execution_count": 4,
   "id": "f7d6d4cd",
   "metadata": {
    "scrolled": true
   },
   "outputs": [
    {
     "name": "stdout",
     "output_type": "stream",
     "text": [
      "1\n",
      "bilangan 1\n",
      "bilangan 4\n",
      "bilangan 7\n",
      "bilangan 10\n",
      "bilangan 13\n"
     ]
    }
   ],
   "source": [
    "angka = int(input())\n",
    "\n",
    "while (angka < 15):\n",
    "    print(\"bilangan {}\".format(angka))\n",
    "    angka += 3"
   ]
  },
  {
   "cell_type": "markdown",
   "id": "1af0fc7d",
   "metadata": {},
   "source": [
    "Else after While\n",
    "\n",
    "In a while statement, the else block will always be executed when the condition in the while becomes false."
   ]
  },
  {
   "cell_type": "code",
   "execution_count": 5,
   "id": "46d5346c",
   "metadata": {},
   "outputs": [
    {
     "name": "stdout",
     "output_type": "stream",
     "text": [
      "1\n",
      "3\n",
      "5\n",
      "7\n",
      "9\n",
      "11\n",
      "loop selesai\n"
     ]
    }
   ],
   "source": [
    "angka = int(input())\n",
    "\n",
    "while (angka < 10):\n",
    "    angka = angka + 2\n",
    "    if angka == 6:\n",
    "        break\n",
    "    print(angka)\n",
    "else:\n",
    "    print(\"loop selesai\")"
   ]
  },
  {
   "cell_type": "code",
   "execution_count": 29,
   "id": "8bea4ddf",
   "metadata": {},
   "outputs": [
    {
     "name": "stdout",
     "output_type": "stream",
     "text": [
      "2\n",
      "bilangan 4\n",
      "bilangan 6\n",
      "bilangan 8\n"
     ]
    }
   ],
   "source": [
    "#Task selasa\n",
    "\n",
    "angka = int(input())\n",
    "\n",
    "while (angka < 15):\n",
    "    angka += 2\n",
    "    if angka == 8:\n",
    "        print(\"bilangan {}\".format(angka))\n",
    "        break\n",
    "    elif angka == 10:\n",
    "        print(\"bilangan {}\".format(angka))\n",
    "        break\n",
    "    else:\n",
    "        print(\"bilangan {}\".format(angka))\n",
    "        continue\n",
    "    print(angka)\n",
    "else:\n",
    "    print(\"loop selesai\")"
   ]
  },
  {
   "cell_type": "code",
   "execution_count": 30,
   "id": "5b3b20fb",
   "metadata": {},
   "outputs": [
    {
     "name": "stdout",
     "output_type": "stream",
     "text": [
      "10\n",
      "8\n",
      "6\n",
      "4\n",
      "2\n",
      "0\n",
      "loop selesai\n"
     ]
    }
   ],
   "source": [
    "angka = int(input())\n",
    "\n",
    "while (angka > 0):\n",
    "    angka = angka - 2\n",
    "    print(angka)\n",
    "else:\n",
    "    print(\"loop selesai\")"
   ]
  },
  {
   "cell_type": "code",
   "execution_count": 38,
   "id": "a6c95628",
   "metadata": {},
   "outputs": [
    {
     "name": "stdout",
     "output_type": "stream",
     "text": [
      "Masukkan nilai: 85\n",
      "84\n",
      "83\n",
      "82\n",
      "81\n",
      "80\n",
      "Nilai diatas KKM\n"
     ]
    }
   ],
   "source": [
    "nilai = int(input(\"Masukkan nilai: \"))\n",
    "\n",
    "while (nilai > 80):\n",
    "    nilai -= 1\n",
    "    print(nilai)\n",
    "else:\n",
    "    print(\"Nilai diatas KKM\")"
   ]
  }
 ],
 "metadata": {
  "kernelspec": {
   "display_name": "Python 3 (ipykernel)",
   "language": "python",
   "name": "python3"
  },
  "language_info": {
   "codemirror_mode": {
    "name": "ipython",
    "version": 3
   },
   "file_extension": ".py",
   "mimetype": "text/x-python",
   "name": "python",
   "nbconvert_exporter": "python",
   "pygments_lexer": "ipython3",
   "version": "3.11.4"
  }
 },
 "nbformat": 4,
 "nbformat_minor": 5
}
