{
 "cells": [
  {
   "cell_type": "markdown",
   "id": "0acc9608",
   "metadata": {},
   "source": [
    "#### Function\n",
    "Defining a Function"
   ]
  },
  {
   "cell_type": "code",
   "execution_count": 1,
   "id": "a2334134",
   "metadata": {},
   "outputs": [],
   "source": [
    "def pangkat(x):\n",
    "    kuadrat = x**2 #fungsi pangkat dua\n",
    "    return kuadrat"
   ]
  },
  {
   "cell_type": "code",
   "execution_count": 2,
   "id": "7ec5c8a3",
   "metadata": {},
   "outputs": [
    {
     "data": {
      "text/plain": [
       "25"
      ]
     },
     "execution_count": 2,
     "metadata": {},
     "output_type": "execute_result"
    }
   ],
   "source": [
    "pangkat(5)"
   ]
  },
  {
   "cell_type": "code",
   "execution_count": 3,
   "id": "d0c81c5b",
   "metadata": {},
   "outputs": [
    {
     "data": {
      "text/plain": [
       "9"
      ]
     },
     "execution_count": 3,
     "metadata": {},
     "output_type": "execute_result"
    }
   ],
   "source": [
    "pangkat(3)"
   ]
  },
  {
   "cell_type": "code",
   "execution_count": 4,
   "id": "19d39c61",
   "metadata": {},
   "outputs": [],
   "source": [
    "def pangkat_tiga(x):\n",
    "    kubik = x**3 #fungsi pangkat tiga\n",
    "    print(kubik)"
   ]
  },
  {
   "cell_type": "code",
   "execution_count": 5,
   "id": "c6942fc1",
   "metadata": {},
   "outputs": [
    {
     "name": "stdout",
     "output_type": "stream",
     "text": [
      "8\n"
     ]
    }
   ],
   "source": [
    "pangkat_tiga(2)"
   ]
  },
  {
   "cell_type": "markdown",
   "id": "b25d4557",
   "metadata": {},
   "source": [
    "#### Task 1 Fungsi"
   ]
  },
  {
   "cell_type": "code",
   "execution_count": 6,
   "id": "80fa6388",
   "metadata": {},
   "outputs": [],
   "source": [
    "def luas_segitiga(alas, tinggi):\n",
    "    luas = (1/2) * alas * tinggi\n",
    "    return luas"
   ]
  },
  {
   "cell_type": "code",
   "execution_count": 7,
   "id": "05b11b02",
   "metadata": {},
   "outputs": [
    {
     "name": "stdout",
     "output_type": "stream",
     "text": [
      "Luas segitiga dengan alas 5 dan tinggi 3 adalah 7.5\n"
     ]
    }
   ],
   "source": [
    "alas_segitiga = 5\n",
    "tinggi_segitiga = 3\n",
    "hasil = luas_segitiga(alas_segitiga, tinggi_segitiga)\n",
    "print(f'Luas segitiga dengan alas {alas_segitiga} dan tinggi {tinggi_segitiga} adalah {hasil}')"
   ]
  },
  {
   "cell_type": "markdown",
   "id": "f24f956d",
   "metadata": {},
   "source": [
    "#### Return\n",
    "The return {expression} statement will make program execution exit the current function, while returning a certain value"
   ]
  },
  {
   "cell_type": "code",
   "execution_count": 8,
   "id": "c10a7ff0",
   "metadata": {},
   "outputs": [],
   "source": [
    "def tambah(x,y):\n",
    "    plus = x + y #fungsi penjumlahan\n",
    "    print(\"Hasil penjumlahan adalah{}\".format(plus))\n",
    "    return plus"
   ]
  },
  {
   "cell_type": "code",
   "execution_count": 9,
   "id": "89258791",
   "metadata": {},
   "outputs": [
    {
     "name": "stdout",
     "output_type": "stream",
     "text": [
      "Hasil penjumlahan adalah5\n"
     ]
    },
    {
     "data": {
      "text/plain": [
       "5"
      ]
     },
     "execution_count": 9,
     "metadata": {},
     "output_type": "execute_result"
    }
   ],
   "source": [
    "tambah(2,3)"
   ]
  },
  {
   "cell_type": "markdown",
   "id": "c8dd62df",
   "metadata": {},
   "source": [
    "#### Task 2 Function of Two Parameters"
   ]
  },
  {
   "cell_type": "code",
   "execution_count": 10,
   "id": "4e1013c2",
   "metadata": {},
   "outputs": [],
   "source": [
    "def luas_dan_volume_persegi_panjang(panjang, lebar, tinggi):\n",
    "    luas = panjang * lebar\n",
    "    volume = panjang * lebar * tinggi\n",
    "    return luas"
   ]
  },
  {
   "cell_type": "code",
   "execution_count": 11,
   "id": "907a7220",
   "metadata": {},
   "outputs": [
    {
     "data": {
      "text/plain": [
       "15"
      ]
     },
     "execution_count": 11,
     "metadata": {},
     "output_type": "execute_result"
    }
   ],
   "source": [
    "luas_dan_volume_persegi_panjang(5,3,2)"
   ]
  },
  {
   "cell_type": "code",
   "execution_count": 12,
   "id": "18d66286",
   "metadata": {},
   "outputs": [],
   "source": [
    "def random_number(x,y):\n",
    "    x = 5*x + 1\n",
    "    y = 4*7 - 2\n",
    "    tambah = x + y\n",
    "    return tambah"
   ]
  },
  {
   "cell_type": "code",
   "execution_count": 13,
   "id": "b63a3b98",
   "metadata": {},
   "outputs": [
    {
     "data": {
      "text/plain": [
       "37"
      ]
     },
     "execution_count": 13,
     "metadata": {},
     "output_type": "execute_result"
    }
   ],
   "source": [
    "random_number(2,5)"
   ]
  }
 ],
 "metadata": {
  "kernelspec": {
   "display_name": "Python 3 (ipykernel)",
   "language": "python",
   "name": "python3"
  },
  "language_info": {
   "codemirror_mode": {
    "name": "ipython",
    "version": 3
   },
   "file_extension": ".py",
   "mimetype": "text/x-python",
   "name": "python",
   "nbconvert_exporter": "python",
   "pygments_lexer": "ipython3",
   "version": "3.11.4"
  }
 },
 "nbformat": 4,
 "nbformat_minor": 5
}
