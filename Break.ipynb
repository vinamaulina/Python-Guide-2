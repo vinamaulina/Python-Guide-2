{
 "cells": [
  {
   "cell_type": "markdown",
   "id": "2856fc1b",
   "metadata": {},
   "source": [
    "#### Break\n",
    "- The break statement stops the loop and then exits, followed by executing the statement after the loop block\n",
    "- If you have a nested loop, break will stop the loop according to which level or loop it is in\n",
    "- But if it is placed in a second depth loop for example, only that loop stops, not the main loop"
   ]
  },
  {
   "cell_type": "code",
   "execution_count": 6,
   "id": "b4962ca3",
   "metadata": {},
   "outputs": [
    {
     "name": "stdout",
     "output_type": "stream",
     "text": [
      "D\n",
      "a\n",
      "t\n",
      "a\n"
     ]
    }
   ],
   "source": [
    "for i in \"Data Science\":\n",
    "    if i == \" \":\n",
    "        break\n",
    "    print(i)"
   ]
  }
 ],
 "metadata": {
  "kernelspec": {
   "display_name": "Python 3 (ipykernel)",
   "language": "python",
   "name": "python3"
  },
  "language_info": {
   "codemirror_mode": {
    "name": "ipython",
    "version": 3
   },
   "file_extension": ".py",
   "mimetype": "text/x-python",
   "name": "python",
   "nbconvert_exporter": "python",
   "pygments_lexer": "ipython3",
   "version": "3.11.4"
  }
 },
 "nbformat": 4,
 "nbformat_minor": 5
}
